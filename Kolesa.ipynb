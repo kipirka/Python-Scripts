{
 "cells": [
  {
   "cell_type": "code",
   "execution_count": 1,
   "metadata": {},
   "outputs": [],
   "source": [
    "import pandas as pd"
   ]
  },
  {
   "cell_type": "code",
   "execution_count": 6,
   "metadata": {},
   "outputs": [],
   "source": [
    "df = pd.read_csv(r'C:\\Users\\77479\\OneDrive\\Documents\\Data.csv')"
   ]
  },
  {
   "cell_type": "code",
   "execution_count": 7,
   "metadata": {},
   "outputs": [
    {
     "data": {
      "text/html": [
       "<div>\n",
       "<style scoped>\n",
       "    .dataframe tbody tr th:only-of-type {\n",
       "        vertical-align: middle;\n",
       "    }\n",
       "\n",
       "    .dataframe tbody tr th {\n",
       "        vertical-align: top;\n",
       "    }\n",
       "\n",
       "    .dataframe thead th {\n",
       "        text-align: right;\n",
       "    }\n",
       "</style>\n",
       "<table border=\"1\" class=\"dataframe\">\n",
       "  <thead>\n",
       "    <tr style=\"text-align: right;\">\n",
       "      <th></th>\n",
       "      <th>date</th>\n",
       "      <th>user_id</th>\n",
       "      <th>view_adverts</th>\n",
       "    </tr>\n",
       "  </thead>\n",
       "  <tbody>\n",
       "    <tr>\n",
       "      <th>0</th>\n",
       "      <td>2023-11-11</td>\n",
       "      <td>8c020470-8461-11ed-83d0-552e8cc749d6</td>\n",
       "      <td>13</td>\n",
       "    </tr>\n",
       "    <tr>\n",
       "      <th>1</th>\n",
       "      <td>2023-11-18</td>\n",
       "      <td>5875f070-7b92-11ee-a6fb-8b298e83f4f7</td>\n",
       "      <td>14</td>\n",
       "    </tr>\n",
       "    <tr>\n",
       "      <th>2</th>\n",
       "      <td>2023-11-29</td>\n",
       "      <td>3c2d27c0-4fd6-11eb-b89f-2ffb31b67dd6</td>\n",
       "      <td>21</td>\n",
       "    </tr>\n",
       "    <tr>\n",
       "      <th>3</th>\n",
       "      <td>2023-11-29</td>\n",
       "      <td>234a96d0-ad16-11ed-a2e6-793ddfeeba1f</td>\n",
       "      <td>23</td>\n",
       "    </tr>\n",
       "    <tr>\n",
       "      <th>4</th>\n",
       "      <td>2023-11-29</td>\n",
       "      <td>4d07c180-644f-11eb-879c-b7c02edf4f37</td>\n",
       "      <td>12</td>\n",
       "    </tr>\n",
       "    <tr>\n",
       "      <th>...</th>\n",
       "      <td>...</td>\n",
       "      <td>...</td>\n",
       "      <td>...</td>\n",
       "    </tr>\n",
       "    <tr>\n",
       "      <th>16809</th>\n",
       "      <td>2023-11-17</td>\n",
       "      <td>39df47d0-67e5-11ee-8fb4-6fca0b38dcdb</td>\n",
       "      <td>9</td>\n",
       "    </tr>\n",
       "    <tr>\n",
       "      <th>16810</th>\n",
       "      <td>2023-11-05</td>\n",
       "      <td>211ecf40-52f0-11ee-8000-aff5e9624248</td>\n",
       "      <td>9</td>\n",
       "    </tr>\n",
       "    <tr>\n",
       "      <th>16811</th>\n",
       "      <td>2023-11-16</td>\n",
       "      <td>ae274910-82d1-11ee-b2b8-1d1441fa3755</td>\n",
       "      <td>9</td>\n",
       "    </tr>\n",
       "    <tr>\n",
       "      <th>16812</th>\n",
       "      <td>2023-11-13</td>\n",
       "      <td>7b3d2810-e585-11ed-a524-d983167b6653</td>\n",
       "      <td>9</td>\n",
       "    </tr>\n",
       "    <tr>\n",
       "      <th>16813</th>\n",
       "      <td>2023-11-15</td>\n",
       "      <td>954bc9b0-5e75-11ed-b1a2-e10d23811e40</td>\n",
       "      <td>9</td>\n",
       "    </tr>\n",
       "  </tbody>\n",
       "</table>\n",
       "<p>16814 rows × 3 columns</p>\n",
       "</div>"
      ],
      "text/plain": [
       "             date                               user_id  view_adverts\n",
       "0      2023-11-11  8c020470-8461-11ed-83d0-552e8cc749d6            13\n",
       "1      2023-11-18  5875f070-7b92-11ee-a6fb-8b298e83f4f7            14\n",
       "2      2023-11-29  3c2d27c0-4fd6-11eb-b89f-2ffb31b67dd6            21\n",
       "3      2023-11-29  234a96d0-ad16-11ed-a2e6-793ddfeeba1f            23\n",
       "4      2023-11-29  4d07c180-644f-11eb-879c-b7c02edf4f37            12\n",
       "...           ...                                   ...           ...\n",
       "16809  2023-11-17  39df47d0-67e5-11ee-8fb4-6fca0b38dcdb             9\n",
       "16810  2023-11-05  211ecf40-52f0-11ee-8000-aff5e9624248             9\n",
       "16811  2023-11-16  ae274910-82d1-11ee-b2b8-1d1441fa3755             9\n",
       "16812  2023-11-13  7b3d2810-e585-11ed-a524-d983167b6653             9\n",
       "16813  2023-11-15  954bc9b0-5e75-11ed-b1a2-e10d23811e40             9\n",
       "\n",
       "[16814 rows x 3 columns]"
      ]
     },
     "execution_count": 7,
     "metadata": {},
     "output_type": "execute_result"
    }
   ],
   "source": [
    "df"
   ]
  },
  {
   "cell_type": "code",
   "execution_count": 8,
   "metadata": {},
   "outputs": [
    {
     "data": {
      "text/plain": [
       "7639"
      ]
     },
     "execution_count": 8,
     "metadata": {},
     "output_type": "execute_result"
    }
   ],
   "source": [
    "df.user_id.nunique()"
   ]
  },
  {
   "cell_type": "code",
   "execution_count": 11,
   "metadata": {},
   "outputs": [],
   "source": [
    "dau = df.groupby('date')['user_id'].nunique()"
   ]
  },
  {
   "cell_type": "code",
   "execution_count": 18,
   "metadata": {},
   "outputs": [
    {
     "data": {
      "text/plain": [
       "560.4666666666667"
      ]
     },
     "execution_count": 18,
     "metadata": {},
     "output_type": "execute_result"
    }
   ],
   "source": [
    "sum(dau.values)/len(dau.index)"
   ]
  },
  {
   "cell_type": "code",
   "execution_count": 32,
   "metadata": {},
   "outputs": [],
   "source": [
    "nov1 = df.query('date==\"2023-11-01\"')['user_id'].unique()"
   ]
  },
  {
   "cell_type": "code",
   "execution_count": 34,
   "metadata": {},
   "outputs": [
    {
     "data": {
      "text/plain": [
       "623"
      ]
     },
     "execution_count": 34,
     "metadata": {},
     "output_type": "execute_result"
    }
   ],
   "source": [
    "len(nov1)"
   ]
  },
  {
   "cell_type": "code",
   "execution_count": 35,
   "metadata": {},
   "outputs": [],
   "source": [
    "nov2 = df.query('date==\"2023-11-02\"')['user_id'].unique()"
   ]
  },
  {
   "cell_type": "code",
   "execution_count": 36,
   "metadata": {},
   "outputs": [
    {
     "data": {
      "text/plain": [
       "649"
      ]
     },
     "execution_count": 36,
     "metadata": {},
     "output_type": "execute_result"
    }
   ],
   "source": [
    "len(nov2)"
   ]
  },
  {
   "cell_type": "code",
   "execution_count": 37,
   "metadata": {},
   "outputs": [],
   "source": [
    "import numpy as np"
   ]
  },
  {
   "cell_type": "code",
   "execution_count": 39,
   "metadata": {},
   "outputs": [],
   "source": [
    "retention = np.intersect1d(nov1, nov2)"
   ]
  },
  {
   "cell_type": "code",
   "execution_count": 41,
   "metadata": {},
   "outputs": [
    {
     "data": {
      "text/plain": [
       "0.2664526484751204"
      ]
     },
     "execution_count": 41,
     "metadata": {},
     "output_type": "execute_result"
    }
   ],
   "source": [
    "len(retention)/len(nov1)"
   ]
  },
  {
   "cell_type": "code",
   "execution_count": 50,
   "metadata": {},
   "outputs": [
    {
     "data": {
      "text/plain": [
       "0.4631496269145176"
      ]
     },
     "execution_count": 50,
     "metadata": {},
     "output_type": "execute_result"
    }
   ],
   "source": [
    "df.query('view_adverts!=0')['user_id'].nunique()/df['user_id'].nunique()"
   ]
  },
  {
   "cell_type": "code",
   "execution_count": 53,
   "metadata": {},
   "outputs": [
    {
     "data": {
      "text/plain": [
       "2.8687000916350307"
      ]
     },
     "execution_count": 53,
     "metadata": {},
     "output_type": "execute_result"
    }
   ],
   "source": [
    "df['view_adverts'].sum()/df['user_id'].nunique()"
   ]
  },
  {
   "cell_type": "code",
   "execution_count": 54,
   "metadata": {},
   "outputs": [
    {
     "data": {
      "text/plain": [
       "0.35"
      ]
     },
     "execution_count": 54,
     "metadata": {},
     "output_type": "execute_result"
    }
   ],
   "source": [
    "1200/2000 - 500/2000"
   ]
  },
  {
   "cell_type": "code",
   "execution_count": 55,
   "metadata": {},
   "outputs": [],
   "source": [
    "Experiments = pd.read_csv(r'C:\\Users\\77479\\OneDrive\\Documents\\Data2.csv')"
   ]
  },
  {
   "cell_type": "code",
   "execution_count": 56,
   "metadata": {},
   "outputs": [
    {
     "data": {
      "text/html": [
       "<div>\n",
       "<style scoped>\n",
       "    .dataframe tbody tr th:only-of-type {\n",
       "        vertical-align: middle;\n",
       "    }\n",
       "\n",
       "    .dataframe tbody tr th {\n",
       "        vertical-align: top;\n",
       "    }\n",
       "\n",
       "    .dataframe thead th {\n",
       "        text-align: right;\n",
       "    }\n",
       "</style>\n",
       "<table border=\"1\" class=\"dataframe\">\n",
       "  <thead>\n",
       "    <tr style=\"text-align: right;\">\n",
       "      <th></th>\n",
       "      <th>experiment_num</th>\n",
       "      <th>experiment_group</th>\n",
       "      <th>user_id</th>\n",
       "      <th>revenue</th>\n",
       "    </tr>\n",
       "  </thead>\n",
       "  <tbody>\n",
       "    <tr>\n",
       "      <th>0</th>\n",
       "      <td>1</td>\n",
       "      <td>test</td>\n",
       "      <td>38456</td>\n",
       "      <td>520</td>\n",
       "    </tr>\n",
       "    <tr>\n",
       "      <th>1</th>\n",
       "      <td>1</td>\n",
       "      <td>control</td>\n",
       "      <td>13125924</td>\n",
       "      <td>806</td>\n",
       "    </tr>\n",
       "    <tr>\n",
       "      <th>2</th>\n",
       "      <td>1</td>\n",
       "      <td>control</td>\n",
       "      <td>9761984</td>\n",
       "      <td>0</td>\n",
       "    </tr>\n",
       "    <tr>\n",
       "      <th>3</th>\n",
       "      <td>1</td>\n",
       "      <td>test</td>\n",
       "      <td>11387012</td>\n",
       "      <td>208</td>\n",
       "    </tr>\n",
       "    <tr>\n",
       "      <th>4</th>\n",
       "      <td>1</td>\n",
       "      <td>test</td>\n",
       "      <td>18319648</td>\n",
       "      <td>104</td>\n",
       "    </tr>\n",
       "    <tr>\n",
       "      <th>...</th>\n",
       "      <td>...</td>\n",
       "      <td>...</td>\n",
       "      <td>...</td>\n",
       "      <td>...</td>\n",
       "    </tr>\n",
       "    <tr>\n",
       "      <th>2830</th>\n",
       "      <td>3</td>\n",
       "      <td>test</td>\n",
       "      <td>725230</td>\n",
       "      <td>0</td>\n",
       "    </tr>\n",
       "    <tr>\n",
       "      <th>2831</th>\n",
       "      <td>3</td>\n",
       "      <td>test</td>\n",
       "      <td>15219649</td>\n",
       "      <td>0</td>\n",
       "    </tr>\n",
       "    <tr>\n",
       "      <th>2832</th>\n",
       "      <td>3</td>\n",
       "      <td>test</td>\n",
       "      <td>18648281</td>\n",
       "      <td>0</td>\n",
       "    </tr>\n",
       "    <tr>\n",
       "      <th>2833</th>\n",
       "      <td>3</td>\n",
       "      <td>test</td>\n",
       "      <td>244892</td>\n",
       "      <td>0</td>\n",
       "    </tr>\n",
       "    <tr>\n",
       "      <th>2834</th>\n",
       "      <td>3</td>\n",
       "      <td>test</td>\n",
       "      <td>22028764</td>\n",
       "      <td>13011</td>\n",
       "    </tr>\n",
       "  </tbody>\n",
       "</table>\n",
       "<p>2835 rows × 4 columns</p>\n",
       "</div>"
      ],
      "text/plain": [
       "      experiment_num experiment_group   user_id  revenue\n",
       "0                  1             test     38456      520\n",
       "1                  1          control  13125924      806\n",
       "2                  1          control   9761984        0\n",
       "3                  1             test  11387012      208\n",
       "4                  1             test  18319648      104\n",
       "...              ...              ...       ...      ...\n",
       "2830               3             test    725230        0\n",
       "2831               3             test  15219649        0\n",
       "2832               3             test  18648281        0\n",
       "2833               3             test    244892        0\n",
       "2834               3             test  22028764    13011\n",
       "\n",
       "[2835 rows x 4 columns]"
      ]
     },
     "execution_count": 56,
     "metadata": {},
     "output_type": "execute_result"
    }
   ],
   "source": [
    "Experiments"
   ]
  },
  {
   "cell_type": "code",
   "execution_count": 61,
   "metadata": {},
   "outputs": [],
   "source": [
    "import scipy"
   ]
  },
  {
   "cell_type": "code",
   "execution_count": 69,
   "metadata": {},
   "outputs": [],
   "source": [
    "exp2_test = Experiments.query('experiment_num==3 and experiment_group==\"test\"')['revenue']"
   ]
  },
  {
   "cell_type": "code",
   "execution_count": 70,
   "metadata": {},
   "outputs": [],
   "source": [
    "exp2_control = Experiments.query('experiment_num==3 and experiment_group==\"control\"')['revenue']"
   ]
  },
  {
   "cell_type": "code",
   "execution_count": 71,
   "metadata": {},
   "outputs": [
    {
     "data": {
      "text/plain": [
       "TtestResult(statistic=1.8703638838987622, pvalue=0.06174290011218765, df=943.0)"
      ]
     },
     "execution_count": 71,
     "metadata": {},
     "output_type": "execute_result"
    }
   ],
   "source": [
    "scipy.stats.ttest_ind(exp2_test, exp2_control, equal_var='False')"
   ]
  },
  {
   "cell_type": "code",
   "execution_count": null,
   "metadata": {},
   "outputs": [],
   "source": [
    "listers = pd.read_csv(r'C:\\Users\\77479\\OneDrive\\Documents\\Data3.csv')"
   ]
  },
  {
   "cell_type": "code",
   "execution_count": 78,
   "metadata": {},
   "outputs": [],
   "source": [
    "import numpy as np"
   ]
  },
  {
   "cell_type": "code",
   "execution_count": 79,
   "metadata": {},
   "outputs": [
    {
     "data": {
      "text/plain": [
       "156.48387096774192"
      ]
     },
     "execution_count": 79,
     "metadata": {},
     "output_type": "execute_result"
    }
   ],
   "source": [
    "np.mean(listers.groupby('user_id')['revenue'].sum().values)"
   ]
  },
  {
   "cell_type": "code",
   "execution_count": 80,
   "metadata": {},
   "outputs": [
    {
     "data": {
      "text/html": [
       "<div>\n",
       "<style scoped>\n",
       "    .dataframe tbody tr th:only-of-type {\n",
       "        vertical-align: middle;\n",
       "    }\n",
       "\n",
       "    .dataframe tbody tr th {\n",
       "        vertical-align: top;\n",
       "    }\n",
       "\n",
       "    .dataframe thead th {\n",
       "        text-align: right;\n",
       "    }\n",
       "</style>\n",
       "<table border=\"1\" class=\"dataframe\">\n",
       "  <thead>\n",
       "    <tr style=\"text-align: right;\">\n",
       "      <th></th>\n",
       "      <th>user_id</th>\n",
       "      <th>date</th>\n",
       "      <th>cnt_adverts</th>\n",
       "      <th>age</th>\n",
       "      <th>cnt_contacts</th>\n",
       "      <th>revenue</th>\n",
       "    </tr>\n",
       "  </thead>\n",
       "  <tbody>\n",
       "    <tr>\n",
       "      <th>0</th>\n",
       "      <td>100</td>\n",
       "      <td>2022-01-01</td>\n",
       "      <td>6</td>\n",
       "      <td>21</td>\n",
       "      <td>119</td>\n",
       "      <td>53</td>\n",
       "    </tr>\n",
       "    <tr>\n",
       "      <th>1</th>\n",
       "      <td>100</td>\n",
       "      <td>2022-01-02</td>\n",
       "      <td>2</td>\n",
       "      <td>21</td>\n",
       "      <td>200</td>\n",
       "      <td>18</td>\n",
       "    </tr>\n",
       "    <tr>\n",
       "      <th>2</th>\n",
       "      <td>100</td>\n",
       "      <td>2022-01-03</td>\n",
       "      <td>6</td>\n",
       "      <td>21</td>\n",
       "      <td>193</td>\n",
       "      <td>42</td>\n",
       "    </tr>\n",
       "    <tr>\n",
       "      <th>3</th>\n",
       "      <td>100</td>\n",
       "      <td>2022-01-04</td>\n",
       "      <td>2</td>\n",
       "      <td>21</td>\n",
       "      <td>143</td>\n",
       "      <td>38</td>\n",
       "    </tr>\n",
       "    <tr>\n",
       "      <th>4</th>\n",
       "      <td>100</td>\n",
       "      <td>2022-01-05</td>\n",
       "      <td>2</td>\n",
       "      <td>21</td>\n",
       "      <td>190</td>\n",
       "      <td>40</td>\n",
       "    </tr>\n",
       "    <tr>\n",
       "      <th>...</th>\n",
       "      <td>...</td>\n",
       "      <td>...</td>\n",
       "      <td>...</td>\n",
       "      <td>...</td>\n",
       "      <td>...</td>\n",
       "      <td>...</td>\n",
       "    </tr>\n",
       "    <tr>\n",
       "      <th>153</th>\n",
       "      <td>130</td>\n",
       "      <td>2022-01-27</td>\n",
       "      <td>1</td>\n",
       "      <td>22</td>\n",
       "      <td>185</td>\n",
       "      <td>60</td>\n",
       "    </tr>\n",
       "    <tr>\n",
       "      <th>154</th>\n",
       "      <td>130</td>\n",
       "      <td>2022-01-19</td>\n",
       "      <td>0</td>\n",
       "      <td>22</td>\n",
       "      <td>86</td>\n",
       "      <td>41</td>\n",
       "    </tr>\n",
       "    <tr>\n",
       "      <th>155</th>\n",
       "      <td>130</td>\n",
       "      <td>2022-01-28</td>\n",
       "      <td>0</td>\n",
       "      <td>22</td>\n",
       "      <td>183</td>\n",
       "      <td>5</td>\n",
       "    </tr>\n",
       "    <tr>\n",
       "      <th>156</th>\n",
       "      <td>130</td>\n",
       "      <td>2022-01-30</td>\n",
       "      <td>0</td>\n",
       "      <td>22</td>\n",
       "      <td>86</td>\n",
       "      <td>12</td>\n",
       "    </tr>\n",
       "    <tr>\n",
       "      <th>157</th>\n",
       "      <td>130</td>\n",
       "      <td>2022-01-13</td>\n",
       "      <td>2</td>\n",
       "      <td>22</td>\n",
       "      <td>97</td>\n",
       "      <td>27</td>\n",
       "    </tr>\n",
       "  </tbody>\n",
       "</table>\n",
       "<p>158 rows × 6 columns</p>\n",
       "</div>"
      ],
      "text/plain": [
       "     user_id        date  cnt_adverts  age  cnt_contacts  revenue\n",
       "0        100  2022-01-01            6   21           119       53\n",
       "1        100  2022-01-02            2   21           200       18\n",
       "2        100  2022-01-03            6   21           193       42\n",
       "3        100  2022-01-04            2   21           143       38\n",
       "4        100  2022-01-05            2   21           190       40\n",
       "..       ...         ...          ...  ...           ...      ...\n",
       "153      130  2022-01-27            1   22           185       60\n",
       "154      130  2022-01-19            0   22            86       41\n",
       "155      130  2022-01-28            0   22           183        5\n",
       "156      130  2022-01-30            0   22            86       12\n",
       "157      130  2022-01-13            2   22            97       27\n",
       "\n",
       "[158 rows x 6 columns]"
      ]
     },
     "execution_count": 80,
     "metadata": {},
     "output_type": "execute_result"
    }
   ],
   "source": [
    "listers"
   ]
  },
  {
   "cell_type": "code",
   "execution_count": 82,
   "metadata": {},
   "outputs": [
    {
     "data": {
      "text/plain": [
       "28.0"
      ]
     },
     "execution_count": 82,
     "metadata": {},
     "output_type": "execute_result"
    }
   ],
   "source": [
    "np.median(listers.groupby('user_id')['age'].first())"
   ]
  },
  {
   "cell_type": "code",
   "execution_count": 88,
   "metadata": {},
   "outputs": [
    {
     "data": {
      "text/plain": [
       "-0.0701029547333032"
      ]
     },
     "execution_count": 88,
     "metadata": {},
     "output_type": "execute_result"
    },
    {
     "ename": "",
     "evalue": "",
     "output_type": "error",
     "traceback": [
      "\u001b[1;31mThe Kernel crashed while executing code in the the current cell or a previous cell. Please review the code in the cell(s) to identify a possible cause of the failure. Click <a href='https://aka.ms/vscodeJupyterKernelCrash'>here</a> for more info. View Jupyter <a href='command:jupyter.viewOutput'>log</a> for further details."
     ]
    }
   ],
   "source": [
    "listers['age'].corr(listers['cnt_contacts'])"
   ]
  }
 ],
 "metadata": {
  "kernelspec": {
   "display_name": ".venv",
   "language": "python",
   "name": "python3"
  },
  "language_info": {
   "codemirror_mode": {
    "name": "ipython",
    "version": 3
   },
   "file_extension": ".py",
   "mimetype": "text/x-python",
   "name": "python",
   "nbconvert_exporter": "python",
   "pygments_lexer": "ipython3",
   "version": "3.9.13"
  }
 },
 "nbformat": 4,
 "nbformat_minor": 2
}
