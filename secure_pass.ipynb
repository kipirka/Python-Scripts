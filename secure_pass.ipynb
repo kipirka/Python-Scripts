{
 "cells": [
  {
   "cell_type": "code",
   "execution_count": null,
   "metadata": {},
   "outputs": [],
   "source": [
    "from string import digits, ascii_lowercase, ascii_uppercase"
   ]
  },
  {
   "cell_type": "code",
   "execution_count": 13,
   "metadata": {},
   "outputs": [],
   "source": [
    "def secure(s):\n",
    "    flg_d = 0\n",
    "    flg_l = 0\n",
    "    flg_u = 0\n",
    "   \n",
    "    for i in s:\n",
    "        if i in digits:\n",
    "            flg_d = 1\n",
    "        elif i in ascii_lowercase:\n",
    "            flg_l = 1\n",
    "        elif i in ascii_uppercase:\n",
    "            flg_u = 1\n",
    "    if flg_d == 1 and flg_l == 1 and flg_u == 1 and len(s)>=8:\n",
    "        return 'YES'\n",
    "    else:\n",
    "        return 'NO'"
   ]
  },
  {
   "cell_type": "code",
   "execution_count": 14,
   "metadata": {},
   "outputs": [],
   "source": [
    "s = 'Dlskdhga;kdhgG'"
   ]
  },
  {
   "cell_type": "code",
   "execution_count": 15,
   "metadata": {},
   "outputs": [
    {
     "data": {
      "text/plain": [
       "'NO'"
      ]
     },
     "execution_count": 15,
     "metadata": {},
     "output_type": "execute_result"
    }
   ],
   "source": [
    "secure(s)"
   ]
  },
  {
   "cell_type": "code",
   "execution_count": 22,
   "metadata": {},
   "outputs": [],
   "source": [
    "def incorrect_pairs(r):\n",
    "    count = 0\n",
    "    for i in range(len(r)):\n",
    "        for j in r[i:]:\n",
    "            if j<r[i]:\n",
    "                count+=1\n",
    "    return count"
   ]
  },
  {
   "cell_type": "code",
   "execution_count": 18,
   "metadata": {},
   "outputs": [
    {
     "data": {
      "text/plain": [
       "['1', '2', '5', '3', '4']"
      ]
     },
     "execution_count": 18,
     "metadata": {},
     "output_type": "execute_result"
    }
   ],
   "source": [
    "n = 5\n",
    "r = '1 2 5 3 4'.split()\n",
    "r"
   ]
  },
  {
   "cell_type": "code",
   "execution_count": 23,
   "metadata": {},
   "outputs": [
    {
     "data": {
      "text/plain": [
       "2"
      ]
     },
     "execution_count": 23,
     "metadata": {},
     "output_type": "execute_result"
    }
   ],
   "source": [
    "incorrect_pairs(r)"
   ]
  },
  {
   "cell_type": "code",
   "execution_count": 21,
   "metadata": {},
   "outputs": [],
   "source": [
    "def color_dist(n):\n",
    "    \n",
    "    l_temp, h_temp = list(map(int, input().split()))\n",
    "    dist = h_temp - l_temp\n",
    "    for i in range(1,n):\n",
    "        l, h = list(map(int, input().split()))\n",
    "        if l < h_temp:\n",
    "            h_temp = h\n",
    "            dist = h_temp - l_temp\n",
    "        else:\n",
    "            l_temp = l\n",
    "            h_temp = h\n",
    "            dist+=h_temp - l_temp\n",
    "    return dist"
   ]
  },
  {
   "cell_type": "code",
   "execution_count": 17,
   "metadata": {},
   "outputs": [],
   "source": [
    "n = int(input())"
   ]
  },
  {
   "cell_type": "code",
   "execution_count": 23,
   "metadata": {},
   "outputs": [
    {
     "data": {
      "text/plain": [
       "46"
      ]
     },
     "execution_count": 23,
     "metadata": {},
     "output_type": "execute_result"
    }
   ],
   "source": [
    "color_dist(n)"
   ]
  },
  {
   "cell_type": "code",
   "execution_count": 13,
   "metadata": {},
   "outputs": [
    {
     "data": {
      "text/plain": [
       "[2, 4]"
      ]
     },
     "execution_count": 13,
     "metadata": {},
     "output_type": "execute_result"
    }
   ],
   "source": [
    "list(map(int,'2 4'.split()))"
   ]
  },
  {
   "cell_type": "code",
   "execution_count": 32,
   "metadata": {},
   "outputs": [],
   "source": [
    "def password(l, r):\n",
    "    p = 0\n",
    "    for i in range(l,r+1):\n",
    "        for j in range(l, r+1):\n",
    "            p+=(i**j)*(i-1)\n",
    "    return print(p)"
   ]
  },
  {
   "cell_type": "code",
   "execution_count": 33,
   "metadata": {},
   "outputs": [
    {
     "name": "stdout",
     "output_type": "stream",
     "text": [
      "84\n",
      "1270\n"
     ]
    }
   ],
   "source": [
    "t = int(input())\n",
    "for i in range(t):\n",
    "    l, r = list(map(int, input().split()))\n",
    "    password(l,r)"
   ]
  },
  {
   "cell_type": "code",
   "execution_count": 45,
   "metadata": {},
   "outputs": [
    {
     "name": "stdout",
     "output_type": "stream",
     "text": [
      "* 2 \n",
      "2 * \n",
      "1 1 \n"
     ]
    }
   ],
   "source": [
    "n, m  = list(map(int, input().split()))\n",
    "w = int(input())\n",
    "bombs = []\n",
    "for i in range(w):\n",
    "    bombs.append(list(map(int, input().split())))\n",
    "\n",
    "field = []\n",
    "for r in range(1,n+1):\n",
    "   \n",
    "    r_string = ''\n",
    "    \n",
    "    for c in range(1,m+1):\n",
    "        if [r,c] in bombs:\n",
    "            r_string += '* '\n",
    "            \n",
    "        else:\n",
    "            bomb_count = 0\n",
    "            if [r,c+1] in bombs:\n",
    "                bomb_count+=1\n",
    "            if [r, c-1] in bombs:\n",
    "                bomb_count+=1\n",
    "            if [r-1, c] in bombs:\n",
    "                bomb_count+=1\n",
    "            if [r+1,c] in bombs:\n",
    "                bomb_count+=1\n",
    "            if [r-1, c-1] in bombs:\n",
    "                bomb_count+=1\n",
    "            if [r+1, c+1] in bombs:\n",
    "                bomb_count+=1\n",
    "            if [r+1, c-1] in bombs:\n",
    "                bomb_count+=1\n",
    "            if [r-1, c+1] in bombs:\n",
    "                bomb_count+=1\n",
    "            r_string+=str(bomb_count)+' '\n",
    "    field.append(r_string)\n",
    "\n",
    "for idx in field:\n",
    "    print(idx)\n"
   ]
  },
  {
   "cell_type": "code",
   "execution_count": 42,
   "metadata": {},
   "outputs": [
    {
     "data": {
      "text/plain": [
       "'1*'"
      ]
     },
     "execution_count": 42,
     "metadata": {},
     "output_type": "execute_result"
    }
   ],
   "source": [
    "'1'+'*'"
   ]
  }
 ],
 "metadata": {
  "kernelspec": {
   "display_name": ".venv",
   "language": "python",
   "name": "python3"
  },
  "language_info": {
   "codemirror_mode": {
    "name": "ipython",
    "version": 3
   },
   "file_extension": ".py",
   "mimetype": "text/x-python",
   "name": "python",
   "nbconvert_exporter": "python",
   "pygments_lexer": "ipython3",
   "version": "3.9.13"
  }
 },
 "nbformat": 4,
 "nbformat_minor": 2
}
