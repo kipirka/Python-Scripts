{
 "cells": [
  {
   "cell_type": "code",
   "execution_count": 1,
   "metadata": {},
   "outputs": [],
   "source": [
    "from collections import defaultdict"
   ]
  },
  {
   "cell_type": "code",
   "execution_count": 21,
   "metadata": {},
   "outputs": [
    {
     "name": "stdout",
     "output_type": "stream",
     "text": [
      "Cats  # 1\n",
      "Dogs  # 1\n",
      "Cats  # 2\n",
      "Stas  # 2\n",
      "Anime  # 1\n"
     ]
    }
   ],
   "source": [
    "p, n, k = map(int, input().split())\n",
    "themes = []\n",
    "for i in range(p):\n",
    "    themes.append(input())\n",
    "\n",
    "id = input().split()\n",
    "count_dict = defaultdict(int)\n",
    "idx = 0\n",
    "for i in range(n):\n",
    "    if count_dict[themes[idx]]<k:\n",
    "        print(themes[idx],' #',id[idx])\n",
    "        count_dict[themes[idx]]+=1\n",
    "        idx+=1\n",
    "    else:\n",
    "        idx+=1\n",
    "        while count_dict[themes[idx]]>=k:\n",
    "            idx+=1\n",
    "        print(themes[idx],' #',id[idx])\n",
    "        idx+=1\n",
    "        \n"
   ]
  },
  {
   "cell_type": "code",
   "execution_count": 23,
   "metadata": {},
   "outputs": [
    {
     "name": "stdout",
     "output_type": "stream",
     "text": [
      "Stas  # 1\n",
      "Stas #1\n"
     ]
    }
   ],
   "source": [
    "print(themes[idx],' #', id[idx])\n",
    "print(str(themes[idx])+' #'+str(id[idx]))"
   ]
  }
 ],
 "metadata": {
  "kernelspec": {
   "display_name": ".venv",
   "language": "python",
   "name": "python3"
  },
  "language_info": {
   "codemirror_mode": {
    "name": "ipython",
    "version": 3
   },
   "file_extension": ".py",
   "mimetype": "text/x-python",
   "name": "python",
   "nbconvert_exporter": "python",
   "pygments_lexer": "ipython3",
   "version": "3.9.13"
  }
 },
 "nbformat": 4,
 "nbformat_minor": 2
}
