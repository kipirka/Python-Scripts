{
 "cells": [
  {
   "cell_type": "code",
   "execution_count": null,
   "metadata": {},
   "outputs": [],
   "source": [
    "def DFS(v, adj):\n",
    "    stack1 = []\n",
    "    visited = []\n",
    "    for i in range(len(adj)):\n",
    "        stack1.append(adj[i])\n",
    "        visited.append(i)\n",
    "        while stack1:\n",
    "            visited.append(stack1.pop())\n",
    "            stack1.append(adj)"
   ]
  }
 ],
 "metadata": {
  "language_info": {
   "name": "python"
  }
 },
 "nbformat": 4,
 "nbformat_minor": 2
}
