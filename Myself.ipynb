{
 "cells": [
  {
   "cell_type": "code",
   "execution_count": 5,
   "metadata": {},
   "outputs": [],
   "source": [
    "import pandas as pd\n",
    "import datetime as dt"
   ]
  },
  {
   "cell_type": "code",
   "execution_count": 3,
   "metadata": {},
   "outputs": [],
   "source": [
    "data_daily = pd.DataFrame(columns=['date', 'weight', 'calories'])"
   ]
  },
  {
   "cell_type": "code",
   "execution_count": 18,
   "metadata": {},
   "outputs": [],
   "source": [
    "data_daily.loc[0,'weight'] = 56.1\n",
    "data_daily.loc[0,'date'] = dt.datetime(2022, 4, 18)\n",
    "data_daily.loc[0,'calories'] = 2398\n"
   ]
  },
  {
   "cell_type": "code",
   "execution_count": 19,
   "metadata": {},
   "outputs": [],
   "source": [
    "data_daily.loc[1,'weight'] = 57.1\n",
    "data_daily.loc[1,'date'] = dt.datetime(2022, 4, 19)\n",
    "data_daily.loc[1,'calories'] = 2390\n"
   ]
  },
  {
   "cell_type": "code",
   "execution_count": 20,
   "metadata": {},
   "outputs": [],
   "source": [
    "data_daily.loc[2,'weight'] = 56.6\n",
    "data_daily.loc[2,'date'] = dt.datetime(2022, 4, 20)\n",
    "data_daily.loc[2,'calories'] = 2399\n"
   ]
  },
  {
   "cell_type": "code",
   "execution_count": 21,
   "metadata": {},
   "outputs": [],
   "source": [
    "data_daily.loc[3,'weight'] = 57\n",
    "data_daily.loc[3,'date'] = dt.datetime(2022, 4, 21)\n",
    "data_daily.loc[3,'calories'] = 2398\n"
   ]
  },
  {
   "cell_type": "code",
   "execution_count": 22,
   "metadata": {},
   "outputs": [],
   "source": [
    "data_daily.loc[4,'weight'] = 57.4\n",
    "data_daily.loc[4,'date'] = dt.datetime(2022, 4, 22)\n",
    "data_daily.loc[4,'calories'] = 2398\n"
   ]
  },
  {
   "cell_type": "code",
   "execution_count": 23,
   "metadata": {},
   "outputs": [],
   "source": [
    "data_daily.loc[5,'weight'] = 57.4\n",
    "data_daily.loc[5,'date'] = dt.datetime(2022, 4, 23)\n",
    "data_daily.loc[5,'calories'] = 2403\n"
   ]
  },
  {
   "cell_type": "code",
   "execution_count": 27,
   "metadata": {},
   "outputs": [
    {
     "data": {
      "text/plain": [
       "0    0\n",
       "1    1\n",
       "2    2\n",
       "3    3\n",
       "4    4\n",
       "5    5\n",
       "Name: date, dtype: int32"
      ]
     },
     "execution_count": 27,
     "metadata": {},
     "output_type": "execute_result"
    }
   ],
   "source": [
    "data_daily['date'].dt.weekday"
   ]
  }
 ],
 "metadata": {
  "kernelspec": {
   "display_name": ".venv",
   "language": "python",
   "name": "python3"
  },
  "language_info": {
   "codemirror_mode": {
    "name": "ipython",
    "version": 3
   },
   "file_extension": ".py",
   "mimetype": "text/x-python",
   "name": "python",
   "nbconvert_exporter": "python",
   "pygments_lexer": "ipython3",
   "version": "3.9.13"
  }
 },
 "nbformat": 4,
 "nbformat_minor": 2
}
