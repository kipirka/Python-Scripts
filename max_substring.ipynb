{
 "cells": [
  {
   "cell_type": "code",
   "execution_count": 36,
   "metadata": {},
   "outputs": [],
   "source": [
    "def max_substring(s):\n",
    "    if len(s)==0:\n",
    "        res = 0\n",
    "        res_temp = 0\n",
    "    else:\n",
    "        res = 1\n",
    "        res_temp = 1\n",
    "    for i in range(len(s)-1):\n",
    "        if s[i]==s[i+1]:\n",
    "            res_temp+=1\n",
    "        elif res_temp>res:\n",
    "            res = res_temp\n",
    "            res_temp = 1\n",
    "        else:\n",
    "            res_temp = 1\n",
    "    print(max(res,res_temp))\n",
    "\n"
   ]
  },
  {
   "cell_type": "code",
   "execution_count": 45,
   "metadata": {},
   "outputs": [
    {
     "name": "stdout",
     "output_type": "stream",
     "text": [
      "3\n"
     ]
    }
   ],
   "source": [
    "s = 'adddaabaa'\n",
    "max_substring(s)"
   ]
  }
 ],
 "metadata": {
  "kernelspec": {
   "display_name": ".venv",
   "language": "python",
   "name": "python3"
  },
  "language_info": {
   "codemirror_mode": {
    "name": "ipython",
    "version": 3
   },
   "file_extension": ".py",
   "mimetype": "text/x-python",
   "name": "python",
   "nbconvert_exporter": "python",
   "pygments_lexer": "ipython3",
   "version": "3.9.13"
  }
 },
 "nbformat": 4,
 "nbformat_minor": 2
}
